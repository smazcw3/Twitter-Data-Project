{
 "cells": [
  {
   "cell_type": "markdown",
   "metadata": {},
   "source": [
    "# Problem 2 - Summarizing trending topics about a location (place)."
   ]
  },
  {
   "cell_type": "markdown",
   "metadata": {},
   "source": [
    "### Loading the required package and setting up authentication to access Twitter API"
   ]
  },
  {
   "cell_type": "code",
   "execution_count": 1,
   "metadata": {},
   "outputs": [],
   "source": [
    "#loading the required package(s)\n",
    "library(twitteR)"
   ]
  },
  {
   "cell_type": "code",
   "execution_count": 2,
   "metadata": {},
   "outputs": [
    {
     "name": "stdout",
     "output_type": "stream",
     "text": [
      "[1] \"Using direct authentication\"\n"
     ]
    }
   ],
   "source": [
    "#Enter your own consumer_key, consumer_secret, access_token and access token secret\n",
    "setup_twitter_oauth(consumer_key, consumer_secret, access_token=NULL, access_secret=NULL)"
   ]
  },
  {
   "cell_type": "markdown",
   "metadata": {},
   "source": [
    "### Change the input location below"
   ]
  },
  {
   "cell_type": "code",
   "execution_count": 3,
   "metadata": {},
   "outputs": [],
   "source": [
    "line <- \"New York\""
   ]
  },
  {
   "cell_type": "code",
   "execution_count": 4,
   "metadata": {},
   "outputs": [
    {
     "data": {
      "text/html": [
       "<table>\n",
       "<thead><tr><th scope=col>name</th><th scope=col>country</th><th scope=col>woeid</th></tr></thead>\n",
       "<tbody>\n",
       "\t<tr><td>Worldwide     </td><td>              </td><td>1             </td></tr>\n",
       "\t<tr><td>Winnipeg      </td><td>Canada        </td><td>2972          </td></tr>\n",
       "\t<tr><td>Ottawa        </td><td>Canada        </td><td>3369          </td></tr>\n",
       "\t<tr><td>Quebec        </td><td>Canada        </td><td>3444          </td></tr>\n",
       "\t<tr><td>Montreal      </td><td>Canada        </td><td>3534          </td></tr>\n",
       "\t<tr><td>Toronto       </td><td>Canada        </td><td>4118          </td></tr>\n",
       "\t<tr><td>Edmonton      </td><td>Canada        </td><td>8676          </td></tr>\n",
       "\t<tr><td>Calgary       </td><td>Canada        </td><td>8775          </td></tr>\n",
       "\t<tr><td>Vancouver     </td><td>Canada        </td><td>9807          </td></tr>\n",
       "\t<tr><td>Birmingham    </td><td>United Kingdom</td><td>12723         </td></tr>\n",
       "</tbody>\n",
       "</table>\n"
      ],
      "text/latex": [
       "\\begin{tabular}{r|lll}\n",
       " name & country & woeid\\\\\n",
       "\\hline\n",
       "\t Worldwide      &                & 1             \\\\\n",
       "\t Winnipeg       & Canada         & 2972          \\\\\n",
       "\t Ottawa         & Canada         & 3369          \\\\\n",
       "\t Quebec         & Canada         & 3444          \\\\\n",
       "\t Montreal       & Canada         & 3534          \\\\\n",
       "\t Toronto        & Canada         & 4118          \\\\\n",
       "\t Edmonton       & Canada         & 8676          \\\\\n",
       "\t Calgary        & Canada         & 8775          \\\\\n",
       "\t Vancouver      & Canada         & 9807          \\\\\n",
       "\t Birmingham     & United Kingdom & 12723         \\\\\n",
       "\\end{tabular}\n"
      ],
      "text/markdown": [
       "\n",
       "name | country | woeid | \n",
       "|---|---|---|---|---|---|---|---|---|---|\n",
       "| Worldwide      |                | 1              | \n",
       "| Winnipeg       | Canada         | 2972           | \n",
       "| Ottawa         | Canada         | 3369           | \n",
       "| Quebec         | Canada         | 3444           | \n",
       "| Montreal       | Canada         | 3534           | \n",
       "| Toronto        | Canada         | 4118           | \n",
       "| Edmonton       | Canada         | 8676           | \n",
       "| Calgary        | Canada         | 8775           | \n",
       "| Vancouver      | Canada         | 9807           | \n",
       "| Birmingham     | United Kingdom | 12723          | \n",
       "\n",
       "\n"
      ],
      "text/plain": [
       "   name       country        woeid\n",
       "1  Worldwide                 1    \n",
       "2  Winnipeg   Canada         2972 \n",
       "3  Ottawa     Canada         3369 \n",
       "4  Quebec     Canada         3444 \n",
       "5  Montreal   Canada         3534 \n",
       "6  Toronto    Canada         4118 \n",
       "7  Edmonton   Canada         8676 \n",
       "8  Calgary    Canada         8775 \n",
       "9  Vancouver  Canada         9807 \n",
       "10 Birmingham United Kingdom 12723"
      ]
     },
     "metadata": {},
     "output_type": "display_data"
    }
   ],
   "source": [
    "#Getting the availaibility of trends\n",
    "avail_trends = availableTrendLocations()\n",
    "\n",
    "#Fetching the top 6 trends\n",
    "head(avail_trends, 10)"
   ]
  },
  {
   "cell_type": "code",
   "execution_count": 5,
   "metadata": {},
   "outputs": [],
   "source": [
    "#Getting the woeid for the input location\n",
    "woeid <- as.integer(avail_trends[which(avail_trends$name == line), ][3])"
   ]
  },
  {
   "cell_type": "code",
   "execution_count": 6,
   "metadata": {},
   "outputs": [],
   "source": [
    "#Check if woeid is present in the data frame\n",
    "if(is.na(woeid)){\n",
    "    print(paste(\"There is no trending topics in \", line, \". Please try some other location\"))\n",
    "}"
   ]
  },
  {
   "cell_type": "code",
   "execution_count": 7,
   "metadata": {},
   "outputs": [],
   "source": [
    "trends = getTrends(woeid)"
   ]
  },
  {
   "cell_type": "code",
   "execution_count": 8,
   "metadata": {},
   "outputs": [
    {
     "data": {
      "text/html": [
       "<table>\n",
       "<thead><tr><th scope=col>name</th><th scope=col>url</th><th scope=col>query</th><th scope=col>woeid</th></tr></thead>\n",
       "<tbody>\n",
       "\t<tr><td>LeBron                                        </td><td>http://twitter.com/search?q=LeBron            </td><td>LeBron                                        </td><td>2459115                                       </td></tr>\n",
       "\t<tr><td>México                                        </td><td>http://twitter.com/search?q=M%C3%A9xico       </td><td>M%C3%A9xico                                   </td><td>2459115                                       </td></tr>\n",
       "\t<tr><td>World Cup                                     </td><td>http://twitter.com/search?q=%22World+Cup%22   </td><td>%22World+Cup%22                               </td><td>2459115                                       </td></tr>\n",
       "\t<tr><td>#Isles                                        </td><td>http://twitter.com/search?q=%23Isles          </td><td>%23Isles                                      </td><td>2459115                                       </td></tr>\n",
       "\t<tr><td>Warriors                                      </td><td>http://twitter.com/search?q=Warriors          </td><td>Warriors                                      </td><td>2459115                                       </td></tr>\n",
       "\t<tr><td>#TheBachelorette                              </td><td>http://twitter.com/search?q=%23TheBachelorette</td><td>%23TheBachelorette                            </td><td>2459115                                       </td></tr>\n",
       "</tbody>\n",
       "</table>\n"
      ],
      "text/latex": [
       "\\begin{tabular}{r|llll}\n",
       " name & url & query & woeid\\\\\n",
       "\\hline\n",
       "\t LeBron                                         & http://twitter.com/search?q=LeBron             & LeBron                                         & 2459115                                       \\\\\n",
       "\t México                                             & http://twitter.com/search?q=M\\%C3\\%A9xico        & M\\%C3\\%A9xico                                    & 2459115                                           \\\\\n",
       "\t World Cup                                          & http://twitter.com/search?q=\\%22World+Cup\\%22    & \\%22World+Cup\\%22                                & 2459115                                           \\\\\n",
       "\t \\#Isles                                         & http://twitter.com/search?q=\\%23Isles           & \\%23Isles                                       & 2459115                                         \\\\\n",
       "\t Warriors                                       & http://twitter.com/search?q=Warriors           & Warriors                                       & 2459115                                       \\\\\n",
       "\t \\#TheBachelorette                               & http://twitter.com/search?q=\\%23TheBachelorette & \\%23TheBachelorette                             & 2459115                                         \\\\\n",
       "\\end{tabular}\n"
      ],
      "text/markdown": [
       "\n",
       "name | url | query | woeid | \n",
       "|---|---|---|---|---|---|\n",
       "| LeBron                                         | http://twitter.com/search?q=LeBron             | LeBron                                         | 2459115                                        | \n",
       "| México                                         | http://twitter.com/search?q=M%C3%A9xico        | M%C3%A9xico                                    | 2459115                                        | \n",
       "| World Cup                                      | http://twitter.com/search?q=%22World+Cup%22    | %22World+Cup%22                                | 2459115                                        | \n",
       "| #Isles                                         | http://twitter.com/search?q=%23Isles           | %23Isles                                       | 2459115                                        | \n",
       "| Warriors                                       | http://twitter.com/search?q=Warriors           | Warriors                                       | 2459115                                        | \n",
       "| #TheBachelorette                               | http://twitter.com/search?q=%23TheBachelorette | %23TheBachelorette                             | 2459115                                        | \n",
       "\n",
       "\n"
      ],
      "text/plain": [
       "  name             url                                           \n",
       "1 LeBron           http://twitter.com/search?q=LeBron            \n",
       "2 México           http://twitter.com/search?q=M%C3%A9xico       \n",
       "3 World Cup        http://twitter.com/search?q=%22World+Cup%22   \n",
       "4 #Isles           http://twitter.com/search?q=%23Isles          \n",
       "5 Warriors         http://twitter.com/search?q=Warriors          \n",
       "6 #TheBachelorette http://twitter.com/search?q=%23TheBachelorette\n",
       "  query              woeid  \n",
       "1 LeBron             2459115\n",
       "2 M%C3%A9xico        2459115\n",
       "3 %22World+Cup%22    2459115\n",
       "4 %23Isles           2459115\n",
       "5 Warriors           2459115\n",
       "6 %23TheBachelorette 2459115"
      ]
     },
     "metadata": {},
     "output_type": "display_data"
    }
   ],
   "source": [
    "head(trends, 6)"
   ]
  },
  {
   "cell_type": "markdown",
   "metadata": {},
   "source": [
    "### Summarizing the Trending Topics at the user input location"
   ]
  },
  {
   "cell_type": "code",
   "execution_count": 9,
   "metadata": {},
   "outputs": [
    {
     "name": "stdout",
     "output_type": "stream",
     "text": [
      "The trending topics at New York are:\n",
      "\n",
      "LeBron\n",
      "México\n",
      "World Cup\n",
      "#Isles\n",
      "Warriors\n",
      "#TheBachelorette\n",
      "#BasketballWives\n",
      "#LHHATL\n",
      "Trae Young\n",
      "Bob Myers\n",
      "Alan Dershowitz\n",
      "#UnlikelyPawnShopItems\n",
      "Dr. Shelby\n",
      "Rick Porcello\n",
      "Jaren Jackson\n",
      "The Revival\n",
      "Daniel Murphy\n",
      "Baron Corbin\n",
      "Roman Reigns\n",
      "Loaisiga\n"
     ]
    }
   ],
   "source": [
    "cat(\"The trending topics at\", line, \"are:\\n\")\n",
    "cat(\"\\n\")\n",
    "for(i in trends$name){\n",
    "    cat(i)\n",
    "    cat(\"\\n\")\n",
    "}"
   ]
  },
  {
   "cell_type": "markdown",
   "metadata": {},
   "source": [
    "## Reference::"
   ]
  },
  {
   "cell_type": "markdown",
   "metadata": {},
   "source": [
    "1. J. Gentry. TwitteR Vignette: A Twitter Client for R. http://geoffjentry.hexdump.org/twitteR.pdf, last viewed 2017."
   ]
  },
  {
   "cell_type": "markdown",
   "metadata": {
    "collapsed": true
   },
   "source": [
    "Link to [Problem1](Problem1.ipynb)  \n",
    "Link to [Part1-RVignette](Part1-RVignette.ipynb)"
   ]
  }
 ],
 "metadata": {
  "anaconda-cloud": {},
  "kernelspec": {
   "display_name": "R",
   "language": "R",
   "name": "ir"
  },
  "language_info": {
   "codemirror_mode": "r",
   "file_extension": ".r",
   "mimetype": "text/x-r-source",
   "name": "R",
   "pygments_lexer": "r",
   "version": "3.4.2"
  }
 },
 "nbformat": 4,
 "nbformat_minor": 1
}
